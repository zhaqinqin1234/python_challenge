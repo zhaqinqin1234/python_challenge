{
 "cells": [
  {
   "cell_type": "code",
   "execution_count": 1,
   "metadata": {},
   "outputs": [],
   "source": [
    "#import module\n",
    "import csv, os"
   ]
  },
  {
   "cell_type": "code",
   "execution_count": 2,
   "metadata": {},
   "outputs": [],
   "source": [
    "#define file path\n",
    "budget_csv = os.path.join(\"Resources\", \"budget_data.csv\")\n",
    "#define file path to output\n",
    "file_output = os.path.join(\"analysis\", \"budget_analysis.txt\")"
   ]
  },
  {
   "cell_type": "code",
   "execution_count": 3,
   "metadata": {},
   "outputs": [],
   "source": [
    "#make lists to store data\n",
    "date = []\n",
    "pro_loss = []\n",
    "change = []\n",
    "total = 0"
   ]
  },
  {
   "cell_type": "code",
   "execution_count": 4,
   "metadata": {},
   "outputs": [],
   "source": [
    "#open CSV file and read data\n",
    "with open(budget_csv, encoding = \"utf-8\") as f:\n",
    "    csvreader = csv.reader(f, delimiter = \",\")\n",
    "    #read header\n",
    "    fheader = next(csvreader)\n",
    "    #print(f\"csv header is: {fheader}\")\n",
    "    #read through data and append to the list\n",
    "    for row in csvreader:\n",
    "        date.append(row[0])\n",
    "        pro_loss.append(int(row[1]))\n",
    "    #calculate the totol number of months included in the dataset\n",
    "    total_months = len(date)\n",
    "     # The net total amount of \"Profit/Losses\" over the entire period\n",
    "    for x in pro_loss:\n",
    "        total = x + total\n",
    "    for i in range(1, len(pro_loss)):\n",
    "        #total = total +int(pro_loss[x])\n",
    "        change.append(int(pro_loss[i]) - int(pro_loss[i-1]))\n",
    "\n",
    "    #The average of the changes in \"Profit/Losses\" over the entire period\n",
    "    ave_change = round(sum(change) / (total_months-1), 2)\n",
    "\n",
    "    #The greatest increase in profits over the entire period\n",
    "    greatest_inc=max(change)\n",
    "    #The greatest decrease in losses over the entire period\n",
    "    greatest_dec=min(change)\n",
    "    #Find the month of the greatest change\n",
    "    for i in range(0, len(change)):\n",
    "        if change[i] == greatest_inc:\n",
    "            date1=date[i+1]\n",
    "        elif change[i] == greatest_dec:\n",
    "            date2=date[i+1]"
   ]
  },
  {
   "cell_type": "code",
   "execution_count": 5,
   "metadata": {},
   "outputs": [],
   "source": [
    "#print analysis result\n",
    "# print(\"Financial Analyis\")\n",
    "# print(\"-----------------------------\")\n",
    "# print(f\"Total Months: {total_months}\")\n",
    "# print(f\"Total: $ {total}\")\n",
    "# print(f\"Average Change: {ave_change}\")\n",
    "# print(f\"Greatest Increase in Profits: {date1} ({greatest_inc})\")\n",
    "# print(f\"Greatest Decrease in Profits: {date2} ({greatest_dec})\")    "
   ]
  },
  {
   "cell_type": "code",
   "execution_count": 6,
   "metadata": {},
   "outputs": [
    {
     "name": "stdout",
     "output_type": "stream",
     "text": [
      "\n",
      "Financial Analyis\n",
      "-----------------------------\n",
      "Total Months: 86\n",
      "Total: $ 38382578\n",
      "Average Change: -2315.12\n",
      "Greatest Increase in Profits: Feb-2012 (1926159)\n",
      "Greatest Decrease in Profits: Sep-2013 (-2196167)\n",
      "\n"
     ]
    }
   ],
   "source": [
    "#generate output summary\n",
    "output=(\n",
    "    f\"\\nFinancial Analyis\\n\"\n",
    "    f\"-----------------------------\\n\"\n",
    "    f\"Total Months: {total_months}\\n\"\n",
    "    f\"Total: $ {total}\\n\"\n",
    "    f\"Average Change: {ave_change}\\n\"\n",
    "    f\"Greatest Increase in Profits: {date1} ({greatest_inc})\\n\"\n",
    "    f\"Greatest Decrease in Profits: {date2} ({greatest_dec})\\n\")  \n",
    "\n",
    "#print the output to the terminal\n",
    "print(output)\n",
    "\n"
   ]
  },
  {
   "cell_type": "code",
   "execution_count": 7,
   "metadata": {},
   "outputs": [],
   "source": [
    "#export the output to termianl\n",
    "with open(file_output, \"w\") as text_file:\n",
    "    text_file.write(output)"
   ]
  },
  {
   "cell_type": "code",
   "execution_count": null,
   "metadata": {},
   "outputs": [],
   "source": []
  }
 ],
 "metadata": {
  "kernelspec": {
   "display_name": "Python 3",
   "language": "python",
   "name": "python3"
  },
  "language_info": {
   "codemirror_mode": {
    "name": "ipython",
    "version": 3
   },
   "file_extension": ".py",
   "mimetype": "text/x-python",
   "name": "python",
   "nbconvert_exporter": "python",
   "pygments_lexer": "ipython3",
   "version": "3.7.4"
  }
 },
 "nbformat": 4,
 "nbformat_minor": 2
}
